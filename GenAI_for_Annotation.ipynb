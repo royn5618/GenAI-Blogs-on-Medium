{
  "nbformat": 4,
  "nbformat_minor": 0,
  "metadata": {
    "colab": {
      "provenance": [],
      "toc_visible": true,
      "authorship_tag": "ABX9TyP1LMBqanrfnPVNeQaADI7B",
      "include_colab_link": true
    },
    "kernelspec": {
      "name": "python3",
      "display_name": "Python 3"
    },
    "language_info": {
      "name": "python"
    }
  },
  "cells": [
    {
      "cell_type": "markdown",
      "metadata": {
        "id": "view-in-github",
        "colab_type": "text"
      },
      "source": [
        "<a href=\"https://colab.research.google.com/github/royn5618/GenAI-Blogs-on-Medium/blob/main/GenAI_for_Annotation.ipynb\" target=\"_parent\"><img src=\"https://colab.research.google.com/assets/colab-badge.svg\" alt=\"Open In Colab\"/></a>"
      ]
    },
    {
      "cell_type": "markdown",
      "source": [
        "# Data Source\n",
        "\n",
        "IMDB Dataset from Kaggle: www.kaggle.com/datasets/harshitshankhdhar/imdb-dataset-of-top-1000-movies-and-tv-shows"
      ],
      "metadata": {
        "id": "90_TcTPDcfBF"
      }
    },
    {
      "cell_type": "code",
      "execution_count": null,
      "metadata": {
        "colab": {
          "base_uri": "https://localhost:8080/"
        },
        "id": "UuipVtS0_v1t",
        "outputId": "7ab4925a-038c-45ea-ec9c-3954909f33b7"
      },
      "outputs": [
        {
          "output_type": "stream",
          "name": "stdout",
          "text": [
            "Requirement already satisfied: httpx==0.27.2 in /usr/local/lib/python3.11/dist-packages (0.27.2)\n",
            "Requirement already satisfied: anyio in /usr/local/lib/python3.11/dist-packages (from httpx==0.27.2) (3.7.1)\n",
            "Requirement already satisfied: certifi in /usr/local/lib/python3.11/dist-packages (from httpx==0.27.2) (2024.12.14)\n",
            "Requirement already satisfied: httpcore==1.* in /usr/local/lib/python3.11/dist-packages (from httpx==0.27.2) (1.0.7)\n",
            "Requirement already satisfied: idna in /usr/local/lib/python3.11/dist-packages (from httpx==0.27.2) (3.10)\n",
            "Requirement already satisfied: sniffio in /usr/local/lib/python3.11/dist-packages (from httpx==0.27.2) (1.3.1)\n",
            "Requirement already satisfied: h11<0.15,>=0.13 in /usr/local/lib/python3.11/dist-packages (from httpcore==1.*->httpx==0.27.2) (0.14.0)\n"
          ]
        }
      ],
      "source": [
        "# ! pip install --upgrade \"httpx==0.27.2\""
      ]
    },
    {
      "cell_type": "code",
      "source": [
        "import openai\n",
        "openai.__version__"
      ],
      "metadata": {
        "colab": {
          "base_uri": "https://localhost:8080/",
          "height": 35
        },
        "id": "4DGiQpqF_w0W",
        "outputId": "e7145cbf-ef78-4495-f066-6d57b77fcc97"
      },
      "execution_count": null,
      "outputs": [
        {
          "output_type": "execute_result",
          "data": {
            "text/plain": [
              "'1.59.9'"
            ],
            "application/vnd.google.colaboratory.intrinsic+json": {
              "type": "string"
            }
          },
          "metadata": {},
          "execution_count": 2
        }
      ]
    },
    {
      "cell_type": "code",
      "source": [
        "api_key='you_api_key'"
      ],
      "metadata": {
        "id": "kocSFX7S_w3r"
      },
      "execution_count": null,
      "outputs": []
    },
    {
      "cell_type": "markdown",
      "source": [
        "# OpenAI API Call"
      ],
      "metadata": {
        "id": "mH-9n3JjeZZa"
      }
    },
    {
      "cell_type": "code",
      "source": [
        "from openai import OpenAI\n",
        "client = OpenAI(api_key=api_key)"
      ],
      "metadata": {
        "id": "eOXknoP5ADhP"
      },
      "execution_count": null,
      "outputs": []
    },
    {
      "cell_type": "code",
      "source": [
        "def get_response(prompt, ret=False):\n",
        "  completion = client.chat.completions.create(\n",
        "    model=\"gpt-4o-mini\",\n",
        "    temperature=0,\n",
        "    messages=[\n",
        "        {\"role\": \"system\", \"content\": \"You are a helpful assistant.\"},\n",
        "        {\n",
        "            \"role\": \"user\",\n",
        "            \"content\": prompt\n",
        "        }\n",
        "    ]\n",
        "  )\n",
        "  # if ret:\n",
        "  #   return completion.choices[0].message.content\n",
        "  print(completion.choices[0].message.content)"
      ],
      "metadata": {
        "id": "cxkI98IZADaF"
      },
      "execution_count": null,
      "outputs": []
    },
    {
      "cell_type": "code",
      "source": [
        "text = f\"\"\"\n",
        "1. When the menace known as the Joker wreaks havoc and chaos on the people of Gotham, Batman must accept one of the greatest psychological and physical tests of his ability to fight injustice.\n",
        "2. Gandalf and Aragorn lead the World of Men against Sauron's army to draw his gaze from Frodo and Sam as they approach Mount Doom with the One Ring.\n",
        "3. In German-occupied Poland during World War II, industrialist Oskar Schindler gradually becomes concerned for his Jewish workforce after witnessing their persecution by the Nazis.\n",
        "\"\"\""
      ],
      "metadata": {
        "id": "CJmIStfDADds"
      },
      "execution_count": null,
      "outputs": []
    },
    {
      "cell_type": "markdown",
      "source": [
        "# Zero Shot POS Tagging Experiments"
      ],
      "metadata": {
        "id": "YP5cu2dsBity"
      }
    },
    {
      "cell_type": "code",
      "source": [
        "prompt = f\"\"\"\n",
        "Annotate the following text for POS tagging to train a POS tagger.\n",
        "---\n",
        "Text: {text}\n",
        "\"\"\"\n",
        "get_response(prompt)"
      ],
      "metadata": {
        "colab": {
          "base_uri": "https://localhost:8080/"
        },
        "id": "CTgGdBM0vdo6",
        "outputId": "407433b8-c580-435d-b50d-f1ae7e844bf7"
      },
      "execution_count": null,
      "outputs": [
        {
          "output_type": "stream",
          "name": "stdout",
          "text": [
            "Here is the annotated text with part-of-speech (POS) tagging:\n",
            "\n",
            "---\n",
            "1. When (WRB) the (DT) menace (NN) known (VBN) as (IN) the (DT) Joker (NNP) wreaks (VBZ) havoc (NN) and (CC) chaos (NN) on (IN) the (DT) people (NNS) of (IN) Gotham (NNP), Batman (NNP) must (MD) accept (VB) one (CD) of (IN) the (DT) greatest (JJS) psychological (JJ) and (CC) physical (JJ) tests (NNS) of (IN) his (PRP$) ability (NN) to (TO) fight (VB) injustice (NN).\n",
            "\n",
            "2. Gandalf (NNP) and (CC) Aragorn (NNP) lead (VB) the (DT) World (NNP) of (IN) Men (NNP) against (IN) Sauron's (NNP$) army (NN) to (TO) draw (VB) his (PRP$) gaze (NN) from (IN) Frodo (NNP) and (CC) Sam (NNP) as (IN) they (PRP) approach (VB) Mount (NNP) Doom (NNP) with (IN) the (DT) One (CD) Ring (NNP).\n",
            "\n",
            "3. In (IN) German-occupied (JJ) Poland (NNP) during (IN) World (NNP) War (NNP) II (NNP), industrialist (NN) Oskar (NNP) Schindler (NNP) gradually (RB) becomes (VBZ) concerned (VBN) for (IN) his (PRP$) Jewish (JJ) workforce (NN) after (IN) witnessing (VBG) their (PRP$) persecution (NN) by (IN) the (DT) Nazis (NNPS).\n",
            "\n",
            "---\n",
            "\n",
            "In this annotation:\n",
            "- NNP: Proper noun, singular\n",
            "- NNS: Noun, plural\n",
            "- NN: Noun, singular\n",
            "- JJ: Adjective\n",
            "- JJS: Adjective, superlative\n",
            "- VB: Verb, base form\n",
            "- VBZ: Verb, 3rd person singular present\n",
            "- VBN: Verb, past participle\n",
            "- MD: Modal\n",
            "- CD: Cardinal number\n",
            "- IN: Preposition or subordinating conjunction\n",
            "- DT: Determiner\n",
            "- CC: Coordinating conjunction\n",
            "- PRP: Personal pronoun\n",
            "- PRP$: Possessive pronoun\n",
            "- RB: Adverb\n",
            "- VBG: Verb, gerund or present participle\n",
            "- NNPS: Proper noun, plural\n",
            "- WRB: Wh-adverb\n",
            "\n",
            "This format can be used to train a POS tagger effectively.\n"
          ]
        }
      ]
    },
    {
      "cell_type": "code",
      "source": [
        "prompt = f\"\"\"\n",
        "Annotate the following text for POS tagging to train a POS tagger. Use [] to\n",
        "annotate using the Penn Treebank project's conventions of POS tagging:\n",
        "---\n",
        "Text: {text}\n",
        "\"\"\"\n",
        "get_response(prompt)"
      ],
      "metadata": {
        "colab": {
          "base_uri": "https://localhost:8080/"
        },
        "id": "ovY44E2bADXv",
        "outputId": "78290f57-bd6a-4081-e3cb-5cf6cb11030e"
      },
      "execution_count": null,
      "outputs": [
        {
          "output_type": "stream",
          "name": "stdout",
          "text": [
            "Here is the annotated text for POS tagging using the Penn Treebank project's conventions:\n",
            "\n",
            "---\n",
            "1. [WRB When] [DT the] [NN menace] [VBN known] [IN as] [DT the] [NNP Joker] [VBZ wreaks] [NN havoc] [CC and] [NN chaos] [IN on] [DT the] [NNS people] [IN of] [NNP Gotham] [, ,] [NNP Batman] [MD must] [VB accept] [CD one] [IN of] [DT the] [JJS greatest] [JJ psychological] [CC and] [JJ physical] [NNS tests] [IN of] [PRP$ his] [NN ability] [TO to] [VB fight] [NN injustice] [.] \n",
            "\n",
            "2. [NNP Gandalf] [CC and] [NNP Aragorn] [VB lead] [DT the] [NNP World] [IN of] [NNS Men] [IN against] [NNP Sauron's] [NN army] [TO to] [VB draw] [PRP$ his] [NN gaze] [IN from] [NNP Frodo] [CC and] [NNP Sam] [IN as] [PRP they] [VB approach] [NN Mount] [NNP Doom] [IN with] [DT the] [JJ One] [NN Ring] [.] \n",
            "\n",
            "3. [IN In] [JJ German-occupied] [NN Poland] [IN during] [NNP World] [NNP War] [CD II] [, ,] [NN industrialist] [NNP Oskar] [NNP Schindler] [RB gradually] [VBZ becomes] [JJ concerned] [IN for] [PRP$ his] [JJ Jewish] [NN workforce] [IN after] [VBG witnessing] [PRP$ their] [NN persecution] [IN by] [DT the] [NNS Nazis] [.] \n",
            "\n",
            "--- \n",
            "\n",
            "This annotation follows the conventions of the Penn Treebank project, where each word is tagged with its corresponding part of speech.\n"
          ]
        }
      ]
    },
    {
      "cell_type": "code",
      "source": [
        "prompt = f\"\"\"\n",
        "Annotate the following text for POS tagging to train a POS tagger. Use Penn Treebank project's conventions of POS tagging:\n",
        "---\n",
        "Text: {text}\n",
        "\"\"\"\n",
        "get_response(prompt)"
      ],
      "metadata": {
        "colab": {
          "base_uri": "https://localhost:8080/"
        },
        "id": "wTPvzItJu9M-",
        "outputId": "3b9158f4-bc76-4fb5-8a9a-2dd4c01f44ec"
      },
      "execution_count": null,
      "outputs": [
        {
          "output_type": "stream",
          "name": "stdout",
          "text": [
            "Here is the annotated text for POS tagging using the Penn Treebank project's conventions:\n",
            "\n",
            "---\n",
            "1. When/WRB the/DT menace/NN known/VBN as/IN the/DT Joker/NNP wreaks/VBZ havoc/NN and/CC chaos/NN on/IN the/DT people/NNS of/IN Gotham/NNP ,/, Batman/NNP must/md accept/VB one/CD of/IN the/DT greatest/JJS psychological/JJ and/CC physical/JJ tests/NNS of/IN his/PRP$ ability/NN to/TO fight/VB injustice/NN ./.\n",
            "\n",
            "2. Gandalf/NNP and/CC Aragorn/NNP lead/VBP the/DT World/NNP of/IN Men/NNS against/IN Sauron/NNP 's/POS army/NN to/TO draw/VB his/PRP$ gaze/NN from/IN Frodo/NNP and/CC Sam/NNP as/IN they/PRP approach/VBP Mount/NNP Doom/NNP with/IN the/DT One/CD Ring/NNP ./.\n",
            "\n",
            "3. In/IN German-occupied/JJ Poland/NNP during/IN World/NNP War/NNP II/CD ,/, industrialist/NN Oskar/NNP Schindler/NNP gradually/RB becomes/VBZ concerned/JJ for/IN his/PRP$ Jewish/JJ workforce/NN after/IN witnessing/VBG their/PRP$ persecution/NN by/IN the/DT Nazis/NNS ./.\n",
            "\n",
            "--- \n",
            "\n",
            "Each word is followed by its corresponding POS tag according to the Penn Treebank conventions.\n"
          ]
        }
      ]
    },
    {
      "cell_type": "markdown",
      "source": [
        "# Few-Shot with Format/Examples for POS Tagging"
      ],
      "metadata": {
        "id": "uD2P3CxHeLo3"
      }
    },
    {
      "cell_type": "code",
      "source": [
        "prompt = f\"\"\"\n",
        "Annotate the texts for Part-Of-Speech tagging to train a Part-Of-Speech tagger.\n",
        "Use Penn Treebank project's conventions of tagging.\n",
        "Below is an example of the format expected for output which has two sentences POS tagged:\n",
        "---\n",
        "{{\n",
        "    [\n",
        "      ('``', '.'),\n",
        "      ('We', 'PRON'),\n",
        "      ('have', 'VERB'),\n",
        "      ('no', 'DET'),\n",
        "      ('useful', 'ADJ'),\n",
        "      ('information', 'NOUN'),\n",
        "      ('on', 'ADP'),\n",
        "      ('whether', 'ADP')\n",
        "    ],\n",
        "    [\n",
        "      ('users', 'NOUN'),\n",
        "      ('are', 'VERB'),\n",
        "      ('at', 'ADP'),\n",
        "      ('risk', 'NOUN')\n",
        "    ]\n",
        "}}\n",
        "---\n",
        "\n",
        "Use these examples and generate POS tagged sentences only for the following texts in JSON format:\n",
        "---\n",
        "{text}\n",
        "\"\"\"\n",
        "get_response(prompt)"
      ],
      "metadata": {
        "id": "VTt6arPuEX10",
        "colab": {
          "base_uri": "https://localhost:8080/"
        },
        "outputId": "c49d6c08-0fb6-4bdd-a5a7-0e9b51aa0c5a"
      },
      "execution_count": null,
      "outputs": [
        {
          "output_type": "stream",
          "name": "stdout",
          "text": [
            "```json\n",
            "{\n",
            "    [\n",
            "      ('When', 'ADV'),\n",
            "      ('the', 'DET'),\n",
            "      ('menace', 'NOUN'),\n",
            "      ('known', 'VERB'),\n",
            "      ('as', 'ADP'),\n",
            "      ('the', 'DET'),\n",
            "      ('Joker', 'NOUN'),\n",
            "      ('wreaks', 'VERB'),\n",
            "      ('havoc', 'NOUN'),\n",
            "      ('and', 'CONJ'),\n",
            "      ('chaos', 'NOUN'),\n",
            "      ('on', 'ADP'),\n",
            "      ('the', 'DET'),\n",
            "      ('people', 'NOUN'),\n",
            "      ('of', 'ADP'),\n",
            "      ('Gotham', 'NOUN'),\n",
            "      (',', '.'),\n",
            "      ('Batman', 'NOUN'),\n",
            "      ('must', 'VERB'),\n",
            "      ('accept', 'VERB'),\n",
            "      ('one', 'NUM'),\n",
            "      ('of', 'ADP'),\n",
            "      ('the', 'DET'),\n",
            "      ('greatest', 'ADJ'),\n",
            "      ('psychological', 'ADJ'),\n",
            "      ('and', 'CONJ'),\n",
            "      ('physical', 'ADJ'),\n",
            "      ('tests', 'NOUN'),\n",
            "      ('of', 'ADP'),\n",
            "      ('his', 'PRON'),\n",
            "      ('ability', 'NOUN'),\n",
            "      ('to', 'PART'),\n",
            "      ('fight', 'VERB'),\n",
            "      ('injustice', 'NOUN'),\n",
            "      ('.', '.')\n",
            "    ], \n",
            "    [\n",
            "      ('Gandalf', 'NOUN'),\n",
            "      ('and', 'CONJ'),\n",
            "      ('Aragorn', 'NOUN'),\n",
            "      ('lead', 'VERB'),\n",
            "      ('the', 'DET'),\n",
            "      ('World', 'NOUN'),\n",
            "      ('of', 'ADP'),\n",
            "      ('Men', 'NOUN'),\n",
            "      ('against', 'ADP'),\n",
            "      ('Sauron', 'NOUN'),\n",
            "      (''', 'NOUN'),\n",
            "      ('s', 'NOUN'),\n",
            "      ('army', 'NOUN'),\n",
            "      ('to', 'PART'),\n",
            "      ('draw', 'VERB'),\n",
            "      ('his', 'PRON'),\n",
            "      ('gaze', 'NOUN'),\n",
            "      ('from', 'ADP'),\n",
            "      ('Frodo', 'NOUN'),\n",
            "      ('and', 'CONJ'),\n",
            "      ('Sam', 'NOUN'),\n",
            "      ('as', 'ADP'),\n",
            "      ('they', 'PRON'),\n",
            "      ('approach', 'VERB'),\n",
            "      ('Mount', 'NOUN'),\n",
            "      ('Doom', 'NOUN'),\n",
            "      ('with', 'ADP'),\n",
            "      ('the', 'DET'),\n",
            "      ('One', 'NUM'),\n",
            "      ('Ring', 'NOUN'),\n",
            "      ('.', '.')\n",
            "    ],\n",
            "    [\n",
            "      ('In', 'ADP'),\n",
            "      ('German-occupied', 'ADJ'),\n",
            "      ('Poland', 'NOUN'),\n",
            "      ('during', 'ADP'),\n",
            "      ('World', 'NOUN'),\n",
            "      ('War', 'NOUN'),\n",
            "      ('II', 'NUM'),\n",
            "      (',', '.'),\n",
            "      ('industrialist', 'NOUN'),\n",
            "      ('Oskar', 'NOUN'),\n",
            "      ('Schindler', 'NOUN'),\n",
            "      ('gradually', 'ADV'),\n",
            "      ('becomes', 'VERB'),\n",
            "      ('concerned', 'ADJ'),\n",
            "      ('for', 'ADP'),\n",
            "      ('his', 'PRON'),\n",
            "      ('Jewish', 'ADJ'),\n",
            "      ('workforce', 'NOUN'),\n",
            "      ('after', 'ADP'),\n",
            "      ('witnessing', 'VERB'),\n",
            "      ('their', 'PRON'),\n",
            "      ('persecution', 'NOUN'),\n",
            "      ('by', 'ADP'),\n",
            "      ('the', 'DET'),\n",
            "      ('Nazis', 'NOUN'),\n",
            "      ('.', '.')\n",
            "    ]\n",
            "}\n",
            "```\n"
          ]
        }
      ]
    },
    {
      "cell_type": "markdown",
      "source": [
        "# Test Prompt for NER Tagging"
      ],
      "metadata": {
        "id": "jJ3v9LjSeeJl"
      }
    },
    {
      "cell_type": "code",
      "source": [
        "prompt = f\"\"\"\n",
        "Annotate the texts for Named-Entity tagging to train a Named-Entity-Recognition (NER) tagger.\n",
        "Use Stanford's PERSON (PER), ORGANISATION (ORG) and LOCATION (LOC) tags.\n",
        "Below is an example of the format expected for output which has two sentences NER tagged:\n",
        "---\n",
        "{{\n",
        "    [\n",
        "      ('``', '0'),\n",
        "      ('John', 'PER'),\n",
        "      ('have', '0'),\n",
        "      ('no', '0'),\n",
        "      ('useful', '0'),\n",
        "      ('information', '0'),\n",
        "      ('on', '0'),\n",
        "      ('Medium', 'ORG')\n",
        "    ],\n",
        "    [\n",
        "      ('users', '0'),\n",
        "      ('are', '0'),\n",
        "      ('in', '0'),\n",
        "      ('Dublin', 'LOC')\n",
        "    ]\n",
        "}}\n",
        "---\n",
        "\n",
        "Use these examples and generate NER tagged sentences only for the following texts in JSON format:\n",
        "---\n",
        "{text}\n",
        "\"\"\"\n",
        "get_response(prompt)"
      ],
      "metadata": {
        "id": "C6TkkE9YD8c-",
        "colab": {
          "base_uri": "https://localhost:8080/"
        },
        "outputId": "b37c1199-a7f0-495b-b8c7-bfc7ab9811c0"
      },
      "execution_count": null,
      "outputs": [
        {
          "output_type": "stream",
          "name": "stdout",
          "text": [
            "```json\n",
            "{\n",
            "    [\n",
            "      ('When', '0'),\n",
            "      ('the', '0'),\n",
            "      ('menace', '0'),\n",
            "      ('known', '0'),\n",
            "      ('as', '0'),\n",
            "      ('the', '0'),\n",
            "      ('Joker', 'PER'),\n",
            "      ('wreaks', '0'),\n",
            "      ('havoc', '0'),\n",
            "      ('and', '0'),\n",
            "      ('chaos', '0'),\n",
            "      ('on', '0'),\n",
            "      ('the', '0'),\n",
            "      ('people', '0'),\n",
            "      ('of', '0'),\n",
            "      ('Gotham', 'LOC'),\n",
            "      (',', '0'),\n",
            "      ('Batman', 'PER'),\n",
            "      ('must', '0'),\n",
            "      ('accept', '0'),\n",
            "      ('one', '0'),\n",
            "      ('of', '0'),\n",
            "      ('the', '0'),\n",
            "      ('greatest', '0'),\n",
            "      ('psychological', '0'),\n",
            "      ('and', '0'),\n",
            "      ('physical', '0'),\n",
            "      ('tests', '0'),\n",
            "      ('of', '0'),\n",
            "      ('his', '0'),\n",
            "      ('ability', '0'),\n",
            "      ('to', '0'),\n",
            "      ('fight', '0'),\n",
            "      ('injustice', '0'),\n",
            "      ('.', '0')\n",
            "    ],\n",
            "    [\n",
            "      ('Gandalf', 'PER'),\n",
            "      ('and', '0'),\n",
            "      ('Aragorn', 'PER'),\n",
            "      ('lead', '0'),\n",
            "      ('the', '0'),\n",
            "      ('World', '0'),\n",
            "      ('of', '0'),\n",
            "      ('Men', '0'),\n",
            "      ('against', '0'),\n",
            "      ('Sauron', 'PER'),\n",
            "      ('\\'s', '0'),\n",
            "      ('army', '0'),\n",
            "      ('to', '0'),\n",
            "      ('draw', '0'),\n",
            "      ('his', '0'),\n",
            "      ('gaze', '0'),\n",
            "      ('from', '0'),\n",
            "      ('Frodo', 'PER'),\n",
            "      ('and', '0'),\n",
            "      ('Sam', 'PER'),\n",
            "      ('as', '0'),\n",
            "      ('they', '0'),\n",
            "      ('approach', '0'),\n",
            "      ('Mount', 'LOC'),\n",
            "      ('Doom', 'LOC'),\n",
            "      ('with', '0'),\n",
            "      ('the', '0'),\n",
            "      ('One', '0'),\n",
            "      ('Ring', '0'),\n",
            "      ('.', '0')\n",
            "    ],\n",
            "    [\n",
            "      ('In', '0'),\n",
            "      ('German-occupied', '0'),\n",
            "      ('Poland', 'LOC'),\n",
            "      ('during', '0'),\n",
            "      ('World', '0'),\n",
            "      ('War', '0'),\n",
            "      ('II', '0'),\n",
            "      (',', '0'),\n",
            "      ('industrialist', '0'),\n",
            "      ('Oskar', 'PER'),\n",
            "      ('Schindler', 'PER'),\n",
            "      ('gradually', '0'),\n",
            "      ('becomes', '0'),\n",
            "      ('concerned', '0'),\n",
            "      ('for', '0'),\n",
            "      ('his', '0'),\n",
            "      ('Jewish', '0'),\n",
            "      ('workforce', '0'),\n",
            "      ('after', '0'),\n",
            "      ('witnessing', '0'),\n",
            "      ('their', '0'),\n",
            "      ('persecution', '0'),\n",
            "      ('by', '0'),\n",
            "      ('the', '0'),\n",
            "      ('Nazis', 'ORG'),\n",
            "      ('.', '0')\n",
            "    ]\n",
            "}\n",
            "```\n"
          ]
        }
      ]
    },
    {
      "cell_type": "markdown",
      "source": [
        "## Test Lower Case Texts for NER"
      ],
      "metadata": {
        "id": "UcuF7LRuj7x-"
      }
    },
    {
      "cell_type": "code",
      "source": [
        "prompt = f\"\"\"\n",
        "Annotate the texts for Named-Entity tagging to train a Named-Entity-Recognition (NER) tagger.\n",
        "Use Stanford's PERSON (PER), ORGANISATION (ORG) and LOCATION (LOC) tags. Correct cases of proper nouns if needed.\n",
        "Below is an example of the format expected for output which has two sentences NER tagged:\n",
        "---\n",
        "{{\n",
        "    [\n",
        "      ('``', '0'),\n",
        "      ('john', 'PER'),\n",
        "      ('have', '0'),\n",
        "      ('no', '0'),\n",
        "      ('useful', '0'),\n",
        "      ('information', '0'),\n",
        "      ('on', '0'),\n",
        "      ('medium', 'ORG')\n",
        "    ],\n",
        "    [\n",
        "      ('users', '0'),\n",
        "      ('are', '0'),\n",
        "      ('in', '0'),\n",
        "      ('dublin', 'LOC')\n",
        "    ]\n",
        "}}\n",
        "---\n",
        "\n",
        "Use these examples and generate NER tagged sentences only for the following texts in JSON format:\n",
        "---\n",
        "{text.lower()}\n",
        "\"\"\"\n",
        "get_response(prompt)"
      ],
      "metadata": {
        "id": "kPBvJc5aADVy",
        "colab": {
          "base_uri": "https://localhost:8080/"
        },
        "outputId": "de69ffb3-11e0-4415-9923-77e1ab2ab2c7"
      },
      "execution_count": null,
      "outputs": [
        {
          "output_type": "stream",
          "name": "stdout",
          "text": [
            "```json\n",
            "{\n",
            "    [\n",
            "      ('when', '0'),\n",
            "      ('the', '0'),\n",
            "      ('menace', '0'),\n",
            "      ('known', '0'),\n",
            "      ('as', '0'),\n",
            "      ('the', '0'),\n",
            "      ('joker', 'PER'),\n",
            "      ('wreaks', '0'),\n",
            "      ('havoc', '0'),\n",
            "      ('and', '0'),\n",
            "      ('chaos', '0'),\n",
            "      ('on', '0'),\n",
            "      ('the', '0'),\n",
            "      ('people', '0'),\n",
            "      ('of', '0'),\n",
            "      ('gotham', 'LOC'),\n",
            "      (',', '0'),\n",
            "      ('batman', 'PER'),\n",
            "      ('must', '0'),\n",
            "      ('accept', '0'),\n",
            "      ('one', '0'),\n",
            "      ('of', '0'),\n",
            "      ('the', '0'),\n",
            "      ('greatest', '0'),\n",
            "      ('psychological', '0'),\n",
            "      ('and', '0'),\n",
            "      ('physical', '0'),\n",
            "      ('tests', '0'),\n",
            "      ('of', '0'),\n",
            "      ('his', '0'),\n",
            "      ('ability', '0'),\n",
            "      ('to', '0'),\n",
            "      ('fight', '0'),\n",
            "      ('injustice', '0'),\n",
            "      ('.', '0')\n",
            "    ], \n",
            "    [\n",
            "      ('gandalf', 'PER'),\n",
            "      ('and', '0'),\n",
            "      ('aragorn', 'PER'),\n",
            "      ('lead', '0'),\n",
            "      ('the', '0'),\n",
            "      ('world', '0'),\n",
            "      ('of', '0'),\n",
            "      ('men', '0'),\n",
            "      ('against', '0'),\n",
            "      ('sauron', 'PER'),\n",
            "      (''', '0'),\n",
            "      ('s', '0'),\n",
            "      ('army', '0'),\n",
            "      ('to', '0'),\n",
            "      ('draw', '0'),\n",
            "      ('his', '0'),\n",
            "      ('gaze', '0'),\n",
            "      ('from', '0'),\n",
            "      ('frodo', 'PER'),\n",
            "      ('and', '0'),\n",
            "      ('sam', 'PER'),\n",
            "      ('as', '0'),\n",
            "      ('they', '0'),\n",
            "      ('approach', '0'),\n",
            "      ('mount', 'LOC'),\n",
            "      ('doom', 'LOC'),\n",
            "      ('with', '0'),\n",
            "      ('the', '0'),\n",
            "      ('one', '0'),\n",
            "      ('ring', '0'),\n",
            "      ('.', '0')\n",
            "    ],\n",
            "    [\n",
            "      ('in', '0'),\n",
            "      ('german', '0'),\n",
            "      ('-', '0'),\n",
            "      ('occupied', '0'),\n",
            "      ('poland', 'LOC'),\n",
            "      ('during', '0'),\n",
            "      ('world', '0'),\n",
            "      ('war', '0'),\n",
            "      ('ii', '0'),\n",
            "      (',', '0'),\n",
            "      ('industrialist', '0'),\n",
            "      ('oskar', 'PER'),\n",
            "      ('schindler', 'PER'),\n",
            "      ('gradually', '0'),\n",
            "      ('becomes', '0'),\n",
            "      ('concerned', '0'),\n",
            "      ('for', '0'),\n",
            "      ('his', '0'),\n",
            "      ('jewish', '0'),\n",
            "      ('workforce', '0'),\n",
            "      ('after', '0'),\n",
            "      ('witnessing', '0'),\n",
            "      ('their', '0'),\n",
            "      ('persecution', '0'),\n",
            "      ('by', '0'),\n",
            "      ('the', '0'),\n",
            "      ('nazis', '0'),\n",
            "      ('.', '0')\n",
            "    ]\n",
            "}\n",
            "```\n"
          ]
        }
      ]
    },
    {
      "cell_type": "code",
      "source": [
        "prompt = f\"\"\"\n",
        "Annotate the texts for Named-Entity tagging to train a Named-Entity-Recognition (NER) tagger.\n",
        "Use Stanford's PERSON (PER), ORGANISATION (ORG) and LOCATION (LOC) tags. Correct cases of proper nouns if needed.\n",
        "Below is an example of the format expected for output which has two sentences NER tagged:\n",
        "---\n",
        "{{\n",
        "    [\n",
        "      ('``', '0'),\n",
        "      ('john', 'PER'),\n",
        "      ('have', '0'),\n",
        "      ('no', '0'),\n",
        "      ('useful', '0'),\n",
        "      ('information', '0'),\n",
        "      ('on', '0'),\n",
        "      ('irish', 'ORG')\n",
        "    ],\n",
        "    [\n",
        "      ('users', '0'),\n",
        "      ('are', '0'),\n",
        "      ('in', '0'),\n",
        "      ('dublin', 'LOC')\n",
        "    ]\n",
        "}}\n",
        "---\n",
        "\n",
        "Use these examples and generate NER tagged sentences only for the following texts in JSON format:\n",
        "---\n",
        "{text.lower()}\n",
        "\"\"\"\n",
        "get_response(prompt)"
      ],
      "metadata": {
        "colab": {
          "base_uri": "https://localhost:8080/"
        },
        "id": "SuOHzffLl8tC",
        "outputId": "16893690-a124-4458-8ec2-1b8a0c10b798"
      },
      "execution_count": null,
      "outputs": [
        {
          "output_type": "stream",
          "name": "stdout",
          "text": [
            "```json\n",
            "{\n",
            "    [\n",
            "      ('when', '0'),\n",
            "      ('the', '0'),\n",
            "      ('menace', '0'),\n",
            "      ('known', '0'),\n",
            "      ('as', '0'),\n",
            "      ('the', '0'),\n",
            "      ('joker', 'PER'),\n",
            "      ('wreaks', '0'),\n",
            "      ('havoc', '0'),\n",
            "      ('and', '0'),\n",
            "      ('chaos', '0'),\n",
            "      ('on', '0'),\n",
            "      ('the', '0'),\n",
            "      ('people', '0'),\n",
            "      ('of', '0'),\n",
            "      ('gotham', 'LOC'),\n",
            "      (',', '0'),\n",
            "      ('batman', 'PER'),\n",
            "      ('must', '0'),\n",
            "      ('accept', '0'),\n",
            "      ('one', '0'),\n",
            "      ('of', '0'),\n",
            "      ('the', '0'),\n",
            "      ('greatest', '0'),\n",
            "      ('psychological', '0'),\n",
            "      ('and', '0'),\n",
            "      ('physical', '0'),\n",
            "      ('tests', '0'),\n",
            "      ('of', '0'),\n",
            "      ('his', '0'),\n",
            "      ('ability', '0'),\n",
            "      ('to', '0'),\n",
            "      ('fight', '0'),\n",
            "      ('injustice', '0'),\n",
            "      ('.', '0')\n",
            "    ], \n",
            "    [\n",
            "      ('gandalf', 'PER'),\n",
            "      ('and', '0'),\n",
            "      ('aragorn', 'PER'),\n",
            "      ('lead', '0'),\n",
            "      ('the', '0'),\n",
            "      ('world', '0'),\n",
            "      ('of', '0'),\n",
            "      ('men', '0'),\n",
            "      ('against', '0'),\n",
            "      ('sauron', 'PER'),\n",
            "      (''', '0'),\n",
            "      ('s', '0'),\n",
            "      ('army', '0'),\n",
            "      ('to', '0'),\n",
            "      ('draw', '0'),\n",
            "      ('his', '0'),\n",
            "      ('gaze', '0'),\n",
            "      ('from', '0'),\n",
            "      ('frodo', 'PER'),\n",
            "      ('and', '0'),\n",
            "      ('sam', 'PER'),\n",
            "      ('as', '0'),\n",
            "      ('they', '0'),\n",
            "      ('approach', '0'),\n",
            "      ('mount', 'LOC'),\n",
            "      ('doom', 'LOC'),\n",
            "      ('with', '0'),\n",
            "      ('the', '0'),\n",
            "      ('one', '0'),\n",
            "      ('ring', '0'),\n",
            "      ('.', '0')\n",
            "    ],\n",
            "    [\n",
            "      ('in', '0'),\n",
            "      ('german-occupied', '0'),\n",
            "      ('poland', 'LOC'),\n",
            "      ('during', '0'),\n",
            "      ('world', '0'),\n",
            "      ('war', '0'),\n",
            "      ('ii', '0'),\n",
            "      (',', '0'),\n",
            "      ('industrialist', '0'),\n",
            "      ('oskar', 'PER'),\n",
            "      ('schindler', 'PER'),\n",
            "      ('gradually', '0'),\n",
            "      ('becomes', '0'),\n",
            "      ('concerned', '0'),\n",
            "      ('for', '0'),\n",
            "      ('his', '0'),\n",
            "      ('jewish', '0'),\n",
            "      ('workforce', '0'),\n",
            "      ('after', '0'),\n",
            "      ('witnessing', '0'),\n",
            "      ('their', '0'),\n",
            "      ('persecution', '0'),\n",
            "      ('by', '0'),\n",
            "      ('the', '0'),\n",
            "      ('nazis', 'ORG'),\n",
            "      ('.', '0')\n",
            "    ]\n",
            "}\n",
            "```\n"
          ]
        }
      ]
    },
    {
      "cell_type": "markdown",
      "source": [
        "# Few-Shot for Custom Annotation"
      ],
      "metadata": {
        "id": "N_5qfr_NovCG"
      }
    },
    {
      "cell_type": "code",
      "source": [
        "prompt = f\"\"\"\n",
        "Annotate the texts for fictional character tagging to train a fictional character tagger.\n",
        "Use FICT-PER to label fictional character and FICT-LOC to label fictional location.\n",
        "Below is an example of the format expected for output which has two sentences fictional character tagged:\n",
        "---\n",
        "{{\n",
        "    [\n",
        "      ('``', '0'),\n",
        "      ('Jack', 'FICT-PER'),\n",
        "      ('Sparrow', 'FICT-PER'),\n",
        "      ('stole', '0'),\n",
        "      ('the', '0'),\n",
        "      ('ship', '0'),\n",
        "      ('from', '0'),\n",
        "      ('Tortuga', '0') # Is a real location on Earth\n",
        "      ('to', '0')\n",
        "      ('go', '0')\n",
        "      ('Shipwreck', 'FICT-LOC') # Is not a real location on Earth\n",
        "      ('Island', 'FICT-LOC') # Is not a real location on Earth\n",
        "    ],\n",
        "    [\n",
        "      ('Hatter', 'FICT-PER'),\n",
        "      ('is', '0'),\n",
        "      ('in', '0'),\n",
        "      ('Neverland', 'FICT-LOC')\n",
        "    ]\n",
        "}}\n",
        "---\n",
        "\n",
        "Use these examples and generate fictional character tagged sentences only for the following texts in JSON format:\n",
        "---\n",
        "{text}\n",
        "\"\"\"\n",
        "get_response(prompt)"
      ],
      "metadata": {
        "colab": {
          "base_uri": "https://localhost:8080/"
        },
        "id": "VsssNuj-oulK",
        "outputId": "24480031-9fb2-4d66-e6b3-f7d66d6489fc"
      },
      "execution_count": null,
      "outputs": [
        {
          "output_type": "stream",
          "name": "stdout",
          "text": [
            "```json\n",
            "{\n",
            "    \"annotations\": [\n",
            "        [\n",
            "            (\"When\", \"0\"),\n",
            "            (\"the\", \"0\"),\n",
            "            (\"menace\", \"0\"),\n",
            "            (\"known\", \"0\"),\n",
            "            (\"as\", \"0\"),\n",
            "            (\"the\", \"0\"),\n",
            "            (\"Joker\", \"FICT-PER\"),\n",
            "            (\"wreaks\", \"0\"),\n",
            "            (\"havoc\", \"0\"),\n",
            "            (\"and\", \"0\"),\n",
            "            (\"chaos\", \"0\"),\n",
            "            (\"on\", \"0\"),\n",
            "            (\"the\", \"0\"),\n",
            "            (\"people\", \"0\"),\n",
            "            (\"of\", \"0\"),\n",
            "            (\"Gotham\", \"FICT-LOC\"),\n",
            "            (\",\", \"0\"),\n",
            "            (\"Batman\", \"FICT-PER\"),\n",
            "            (\"must\", \"0\"),\n",
            "            (\"accept\", \"0\"),\n",
            "            (\"one\", \"0\"),\n",
            "            (\"of\", \"0\"),\n",
            "            (\"the\", \"0\"),\n",
            "            (\"greatest\", \"0\"),\n",
            "            (\"psychological\", \"0\"),\n",
            "            (\"and\", \"0\"),\n",
            "            (\"physical\", \"0\"),\n",
            "            (\"tests\", \"0\"),\n",
            "            (\"of\", \"0\"),\n",
            "            (\"his\", \"0\"),\n",
            "            (\"ability\", \"0\"),\n",
            "            (\"to\", \"0\"),\n",
            "            (\"fight\", \"0\"),\n",
            "            (\"injustice\", \"0\"),\n",
            "            (\".\", \"0\")\n",
            "        ],\n",
            "        [\n",
            "            (\"Gandalf\", \"FICT-PER\"),\n",
            "            (\"and\", \"0\"),\n",
            "            (\"Aragorn\", \"FICT-PER\"),\n",
            "            (\"lead\", \"0\"),\n",
            "            (\"the\", \"0\"),\n",
            "            (\"World\", \"0\"),\n",
            "            (\"of\", \"0\"),\n",
            "            (\"Men\", \"0\"),\n",
            "            (\"against\", \"0\"),\n",
            "            (\"Sauron\", \"FICT-PER\"),\n",
            "            (\"'s\", \"0\"),\n",
            "            (\"army\", \"0\"),\n",
            "            (\"to\", \"0\"),\n",
            "            (\"draw\", \"0\"),\n",
            "            (\"his\", \"0\"),\n",
            "            (\"gaze\", \"0\"),\n",
            "            (\"from\", \"0\"),\n",
            "            (\"Frodo\", \"FICT-PER\"),\n",
            "            (\"and\", \"0\"),\n",
            "            (\"Sam\", \"FICT-PER\"),\n",
            "            (\"as\", \"0\"),\n",
            "            (\"they\", \"0\"),\n",
            "            (\"approach\", \"0\"),\n",
            "            (\"Mount\", \"FICT-LOC\"),\n",
            "            (\"Doom\", \"FICT-LOC\"),\n",
            "            (\"with\", \"0\"),\n",
            "            (\"the\", \"0\"),\n",
            "            (\"One\", \"0\"),\n",
            "            (\"Ring\", \"0\"),\n",
            "            (\".\", \"0\")\n",
            "        ],\n",
            "        [\n",
            "            (\"In\", \"0\"),\n",
            "            (\"German-occupied\", \"0\"),\n",
            "            (\"Poland\", \"0\"),\n",
            "            (\"during\", \"0\"),\n",
            "            (\"World\", \"0\"),\n",
            "            (\"War\", \"0\"),\n",
            "            (\"II\", \"0\"),\n",
            "            (\",\", \"0\"),\n",
            "            (\"industrialist\", \"0\"),\n",
            "            (\"Oskar\", \"FICT-PER\"),\n",
            "            (\"Schindler\", \"FICT-PER\"),\n",
            "            (\"gradually\", \"0\"),\n",
            "            (\"becomes\", \"0\"),\n",
            "            (\"concerned\", \"0\"),\n",
            "            (\"for\", \"0\"),\n",
            "            (\"his\", \"0\"),\n",
            "            (\"Jewish\", \"0\"),\n",
            "            (\"workforce\", \"0\"),\n",
            "            (\"after\", \"0\"),\n",
            "            (\"witnessing\", \"0\"),\n",
            "            (\"their\", \"0\"),\n",
            "            (\"persecution\", \"0\"),\n",
            "            (\"by\", \"0\"),\n",
            "            (\"the\", \"0\"),\n",
            "            (\"Nazis\", \"0\"),\n",
            "            (\".\", \"0\")\n",
            "        ]\n",
            "    ]\n",
            "}\n",
            "```\n"
          ]
        }
      ]
    },
    {
      "cell_type": "markdown",
      "source": [
        "That's all folks!\n",
        "Thanks for visiting :)"
      ],
      "metadata": {
        "id": "R28TVu1rrqWU"
      }
    }
  ]
}